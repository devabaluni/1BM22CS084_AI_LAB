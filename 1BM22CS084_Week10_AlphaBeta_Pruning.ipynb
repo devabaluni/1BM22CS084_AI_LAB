{
 "cells": [
  {
   "cell_type": "code",
   "execution_count": 7,
   "id": "d7b4c25c-2c53-47e7-b447-069eb0ff8d73",
   "metadata": {},
   "outputs": [
    {
     "name": "stdout",
     "output_type": "stream",
     "text": [
      "Alpha-Beta Pruning Search:\n",
      "Optimal Value: 10\n"
     ]
    }
   ],
   "source": [
    "import math\n",
    "\n",
    "# Alpha-Beta Pruning Functions\n",
    "def alpha_beta_search(state):\n",
    "    \"\"\" Alpha-Beta Search to get the optimal action \"\"\"\n",
    "    value = max_value(state, -math.inf, math.inf)\n",
    "    print(\"Optimal Value:\", value)\n",
    "    return value\n",
    "\n",
    "def max_value(state, alpha, beta):\n",
    "    \"\"\" Function to calculate the MAX value node \"\"\"\n",
    "    if terminal_test(state):  # If leaf node, return utility value\n",
    "        return utility(state)\n",
    "    v = -math.inf\n",
    "    for child in state[\"children\"]:  # Iterate through child nodes\n",
    "        v = max(v, min_value(child, alpha, beta))\n",
    "        if v >= beta:\n",
    "            return v  # Beta cutoff\n",
    "        alpha = max(alpha, v)\n",
    "    return v\n",
    "\n",
    "def min_value(state, alpha, beta):\n",
    "    \"\"\" Function to calculate the MIN value node \"\"\"\n",
    "    if terminal_test(state):  # If leaf node, return utility value\n",
    "        return utility(state)\n",
    "    v = math.inf\n",
    "    for child in state[\"children\"]:  # Iterate through child nodes\n",
    "        v = min(v, max_value(child, alpha, beta))\n",
    "        if v <= alpha:\n",
    "            return v  # Alpha cutoff\n",
    "        beta = min(beta, v)\n",
    "    return v\n",
    "\n",
    "# Utility Functions\n",
    "def terminal_test(state):\n",
    "    \"\"\" Check if the node is a leaf node \"\"\"\n",
    "    return \"value\" in state  # Leaf node if it contains 'value'\n",
    "\n",
    "def utility(state):\n",
    "    \"\"\" Return the utility value of a leaf node \"\"\"\n",
    "    return state[\"value\"]\n",
    "\n",
    "# Build the Binary Tree Based on Leaf Nodes\n",
    "def build_tree(values):\n",
    "    \"\"\" Recursively build a binary tree from a list of leaf node values \"\"\"\n",
    "    if len(values) == 1:  # Single value -> Leaf node\n",
    "        return {\"value\": values[0]}\n",
    "    mid = len(values) // 2\n",
    "    left_subtree = build_tree(values[:mid])\n",
    "    right_subtree = build_tree(values[mid:])\n",
    "    return {\"children\": [left_subtree, right_subtree]}\n",
    "\n",
    "# Main Program\n",
    "if __name__ == \"__main__\":\n",
    "    leaf_nodes = [10, 9, 14, 18, 5, 4, 50, 3]\n",
    "    tree = build_tree(leaf_nodes)  # Build the binary tree\n",
    "    print(\"Alpha-Beta Pruning Search:\")\n",
    "    alpha_beta_search(tree)"
   ]
  },
  {
   "cell_type": "code",
   "execution_count": null,
   "id": "2417dd89-4f99-4d99-90a9-e078ec7ee344",
   "metadata": {},
   "outputs": [],
   "source": []
  }
 ],
 "metadata": {
  "kernelspec": {
   "display_name": "Python 3 (ipykernel)",
   "language": "python",
   "name": "python3"
  },
  "language_info": {
   "codemirror_mode": {
    "name": "ipython",
    "version": 3
   },
   "file_extension": ".py",
   "mimetype": "text/x-python",
   "name": "python",
   "nbconvert_exporter": "python",
   "pygments_lexer": "ipython3",
   "version": "3.11.7"
  }
 },
 "nbformat": 4,
 "nbformat_minor": 5
}
