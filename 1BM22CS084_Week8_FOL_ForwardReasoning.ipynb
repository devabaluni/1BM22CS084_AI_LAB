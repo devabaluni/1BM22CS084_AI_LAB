{
 "cells": [
  {
   "cell_type": "code",
   "execution_count": 5,
   "id": "825da46f-d88d-4750-bc71-35e7e805fd16",
   "metadata": {},
   "outputs": [
    {
     "name": "stdout",
     "output_type": "stream",
     "text": [
      "Criminal(Robert)\n"
     ]
    }
   ],
   "source": [
    "# Define the Fact class\n",
    "class Fact:\n",
    "    def __init__(self, name, *args):\n",
    "        self.name = name\n",
    "        self.args = args\n",
    "\n",
    "    def __str__(self):\n",
    "        return f\"{self.name}({', '.join(map(str, self.args))})\"\n",
    "\n",
    "    def __eq__(self, other):\n",
    "        return self.name == other.name and self.args == other.args\n",
    "\n",
    "    def __hash__(self):\n",
    "        return hash((self.name, self.args))\n",
    "\n",
    "# Representing constants\n",
    "A = \"A\"  # Country A\n",
    "Robert = \"Robert\"  # Robert\n",
    "\n",
    "# Initial facts\n",
    "facts = set([\n",
    "    Fact(\"American\", Robert),\n",
    "    Fact(\"Enemy\", A, \"America\"),\n",
    "    Fact(\"Missile\", \"T1\"),  # We instantiate the missile T1\n",
    "    Fact(\"Owns\", A, \"T1\"),\n",
    "    Fact(\"Weapon\", \"T1\"),  # Missiles are weapons\n",
    "    Fact(\"Sells\", Robert, \"T1\", A),  # Robert sells missile to A\n",
    "    Fact(\"Hostile\", A)  # A is hostile because it's an enemy of America\n",
    "])\n",
    "\n",
    "# Inference rules\n",
    "def apply_rules(facts):\n",
    "    new_facts = set()\n",
    "\n",
    "    # Rule: Missiles are weapons\n",
    "    for fact in facts:\n",
    "        if fact.name == \"Missile\":\n",
    "            new_facts.add(Fact(\"Weapon\", *fact.args))\n",
    "\n",
    "    # Rule: If American(p) ∧ Weapon(q) ∧ Sells(p, q, r) ∧ Hostile(r) ⇒ Criminal(p)\n",
    "    for fact1 in facts:\n",
    "        if fact1.name == \"American\":\n",
    "            p = fact1.args[0]  # p is the person\n",
    "            for fact2 in facts:\n",
    "                if fact2.name == \"Weapon\":\n",
    "                    q = fact2.args[0]  # q is the weapon\n",
    "                    for fact3 in facts:\n",
    "                        if fact3.name == \"Sells\" and fact3.args[0] == p and fact3.args[1] == q:\n",
    "                            r = fact3.args[2]  # r is the country\n",
    "                            for fact4 in facts:\n",
    "                                if fact4.name == \"Hostile\" and fact4.args[0] == r:\n",
    "                                    new_facts.add(Fact(\"Criminal\", p))\n",
    "\n",
    "    return new_facts\n",
    "\n",
    "# Forward chaining\n",
    "def forward_chaining(facts):\n",
    "    inferred_facts = set(facts)  # Start with the initial facts\n",
    "    while True:\n",
    "        new_facts = apply_rules(inferred_facts) - inferred_facts\n",
    "        if not new_facts:  # No new facts inferred, stop the loop\n",
    "            break\n",
    "        inferred_facts.update(new_facts)\n",
    "    return inferred_facts\n",
    "\n",
    "# Run forward chaining\n",
    "final_facts = forward_chaining(facts)\n",
    "\n",
    "# Check if \"Criminal(Robert)\" is in the final facts\n",
    "if Fact(\"Criminal\", Robert) in final_facts:\n",
    "    print(\"Criminal(Robert)\")\n",
    "else:\n",
    "    print(\"Not Criminal\")\n"
   ]
  },
  {
   "cell_type": "code",
   "execution_count": null,
   "id": "0e11a1db-af7d-41cc-908a-513d60b5b9e1",
   "metadata": {},
   "outputs": [],
   "source": []
  }
 ],
 "metadata": {
  "kernelspec": {
   "display_name": "Python 3 (ipykernel)",
   "language": "python",
   "name": "python3"
  },
  "language_info": {
   "codemirror_mode": {
    "name": "ipython",
    "version": 3
   },
   "file_extension": ".py",
   "mimetype": "text/x-python",
   "name": "python",
   "nbconvert_exporter": "python",
   "pygments_lexer": "ipython3",
   "version": "3.11.7"
  }
 },
 "nbformat": 4,
 "nbformat_minor": 5
}
